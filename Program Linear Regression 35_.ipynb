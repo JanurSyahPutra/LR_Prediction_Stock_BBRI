{
 "cells": [
  {
   "cell_type": "code",
   "execution_count": 5,
   "metadata": {},
   "outputs": [],
   "source": [
    "import numpy as np\n",
    "import pandas as pd\n",
    "import matplotlib.pyplot as plt\n",
    "import seaborn as sns\n",
    "from sklearn.model_selection import train_test_split\n",
    "from sklearn.linear_model import LinearRegression\n",
    "from sklearn import metrics\n",
    "\n",
    "plt.style.use('seaborn-darkgrid')\n",
    "plt.rc('figure', figsize=(13,9))\n",
    "plt.rc('lines', markersize=4)"
   ]
  },
  {
   "cell_type": "code",
   "execution_count": 6,
   "metadata": {},
   "outputs": [
    {
     "data": {
      "text/html": [
       "<div>\n",
       "<style scoped>\n",
       "    .dataframe tbody tr th:only-of-type {\n",
       "        vertical-align: middle;\n",
       "    }\n",
       "\n",
       "    .dataframe tbody tr th {\n",
       "        vertical-align: top;\n",
       "    }\n",
       "\n",
       "    .dataframe thead th {\n",
       "        text-align: right;\n",
       "    }\n",
       "</style>\n",
       "<table border=\"1\" class=\"dataframe\">\n",
       "  <thead>\n",
       "    <tr style=\"text-align: right;\">\n",
       "      <th></th>\n",
       "      <th>Date</th>\n",
       "      <th>Price</th>\n",
       "      <th>Open</th>\n",
       "      <th>High</th>\n",
       "      <th>Low</th>\n",
       "      <th>Vol.</th>\n",
       "      <th>Change %</th>\n",
       "    </tr>\n",
       "  </thead>\n",
       "  <tbody>\n",
       "    <tr>\n",
       "      <th>0</th>\n",
       "      <td>Jan 02, 2008</td>\n",
       "      <td>735</td>\n",
       "      <td>735</td>\n",
       "      <td>740</td>\n",
       "      <td>730</td>\n",
       "      <td>44.77M</td>\n",
       "      <td>-0.68%</td>\n",
       "    </tr>\n",
       "    <tr>\n",
       "      <th>1</th>\n",
       "      <td>Jan 03, 2008</td>\n",
       "      <td>720</td>\n",
       "      <td>735</td>\n",
       "      <td>735</td>\n",
       "      <td>710</td>\n",
       "      <td>102.94M</td>\n",
       "      <td>-2.04%</td>\n",
       "    </tr>\n",
       "    <tr>\n",
       "      <th>2</th>\n",
       "      <td>Jan 04, 2008</td>\n",
       "      <td>750</td>\n",
       "      <td>720</td>\n",
       "      <td>755</td>\n",
       "      <td>715</td>\n",
       "      <td>143.67M</td>\n",
       "      <td>4.17%</td>\n",
       "    </tr>\n",
       "    <tr>\n",
       "      <th>3</th>\n",
       "      <td>Jan 07, 2008</td>\n",
       "      <td>745</td>\n",
       "      <td>735</td>\n",
       "      <td>750</td>\n",
       "      <td>730</td>\n",
       "      <td>63.70M</td>\n",
       "      <td>-0.67%</td>\n",
       "    </tr>\n",
       "    <tr>\n",
       "      <th>4</th>\n",
       "      <td>Jan 08, 2008</td>\n",
       "      <td>750</td>\n",
       "      <td>745</td>\n",
       "      <td>755</td>\n",
       "      <td>745</td>\n",
       "      <td>84.23M</td>\n",
       "      <td>0.67%</td>\n",
       "    </tr>\n",
       "  </tbody>\n",
       "</table>\n",
       "</div>"
      ],
      "text/plain": [
       "           Date Price Open High  Low     Vol. Change %\n",
       "0  Jan 02, 2008   735  735  740  730   44.77M   -0.68%\n",
       "1  Jan 03, 2008   720  735  735  710  102.94M   -2.04%\n",
       "2  Jan 04, 2008   750  720  755  715  143.67M    4.17%\n",
       "3  Jan 07, 2008   745  735  750  730   63.70M   -0.67%\n",
       "4  Jan 08, 2008   750  745  755  745   84.23M    0.67%"
      ]
     },
     "execution_count": 6,
     "metadata": {},
     "output_type": "execute_result"
    }
   ],
   "source": [
    "dataset = pd.read_csv(\"BBRI Historical Data.csv\")\n",
    "dataset.head()"
   ]
  },
  {
   "cell_type": "code",
   "execution_count": 7,
   "metadata": {},
   "outputs": [
    {
     "name": "stdout",
     "output_type": "stream",
     "text": [
      "<class 'pandas.core.frame.DataFrame'>\n",
      "RangeIndex: 3041 entries, 0 to 3040\n",
      "Data columns (total 7 columns):\n",
      " #   Column    Non-Null Count  Dtype \n",
      "---  ------    --------------  ----- \n",
      " 0   Date      3041 non-null   object\n",
      " 1   Price     3041 non-null   object\n",
      " 2   Open      3041 non-null   object\n",
      " 3   High      3041 non-null   object\n",
      " 4   Low       3041 non-null   object\n",
      " 5   Vol.      3041 non-null   object\n",
      " 6   Change %  3041 non-null   object\n",
      "dtypes: object(7)\n",
      "memory usage: 166.4+ KB\n"
     ]
    }
   ],
   "source": [
    "dataset.info()"
   ]
  },
  {
   "cell_type": "code",
   "execution_count": 8,
   "metadata": {},
   "outputs": [],
   "source": [
    "dataset['Date'] = pd.to_datetime(dataset['Date'])\n",
    "dataset['Price'] = dataset['Price'].str.replace(',', '').astype(int)\n",
    "dataset['Open'] = dataset['Open'].str.replace(',', '').astype(int)\n",
    "dataset['High'] = dataset['High'].str.replace(',', '').astype(int)\n",
    "dataset['Low'] = dataset['Low'].str.replace(',', '').astype(int)\n",
    "dataset['Vol.'] = dataset['Vol.'].str.replace('M', '').astype(float)\n",
    "dataset['Change %'] = dataset['Change %'].str.replace('%', '').astype(float)"
   ]
  },
  {
   "cell_type": "code",
   "execution_count": 9,
   "metadata": {},
   "outputs": [
    {
     "name": "stdout",
     "output_type": "stream",
     "text": [
      "<class 'pandas.core.frame.DataFrame'>\n",
      "RangeIndex: 3041 entries, 0 to 3040\n",
      "Data columns (total 7 columns):\n",
      " #   Column    Non-Null Count  Dtype         \n",
      "---  ------    --------------  -----         \n",
      " 0   Date      3041 non-null   datetime64[ns]\n",
      " 1   Price     3041 non-null   int32         \n",
      " 2   Open      3041 non-null   int32         \n",
      " 3   High      3041 non-null   int32         \n",
      " 4   Low       3041 non-null   int32         \n",
      " 5   Vol.      3041 non-null   float64       \n",
      " 6   Change %  3041 non-null   float64       \n",
      "dtypes: datetime64[ns](1), float64(2), int32(4)\n",
      "memory usage: 118.9 KB\n"
     ]
    }
   ],
   "source": [
    "dataset.info()"
   ]
  },
  {
   "cell_type": "code",
   "execution_count": 10,
   "metadata": {},
   "outputs": [
    {
     "data": {
      "text/html": [
       "<div>\n",
       "<style scoped>\n",
       "    .dataframe tbody tr th:only-of-type {\n",
       "        vertical-align: middle;\n",
       "    }\n",
       "\n",
       "    .dataframe tbody tr th {\n",
       "        vertical-align: top;\n",
       "    }\n",
       "\n",
       "    .dataframe thead th {\n",
       "        text-align: right;\n",
       "    }\n",
       "</style>\n",
       "<table border=\"1\" class=\"dataframe\">\n",
       "  <thead>\n",
       "    <tr style=\"text-align: right;\">\n",
       "      <th></th>\n",
       "      <th>Price</th>\n",
       "      <th>Open</th>\n",
       "      <th>High</th>\n",
       "      <th>Low</th>\n",
       "      <th>Vol.</th>\n",
       "      <th>Change %</th>\n",
       "    </tr>\n",
       "    <tr>\n",
       "      <th>Date</th>\n",
       "      <th></th>\n",
       "      <th></th>\n",
       "      <th></th>\n",
       "      <th></th>\n",
       "      <th></th>\n",
       "      <th></th>\n",
       "    </tr>\n",
       "  </thead>\n",
       "  <tbody>\n",
       "    <tr>\n",
       "      <th>2008-01-02</th>\n",
       "      <td>735</td>\n",
       "      <td>735</td>\n",
       "      <td>740</td>\n",
       "      <td>730</td>\n",
       "      <td>44.77</td>\n",
       "      <td>-0.68</td>\n",
       "    </tr>\n",
       "    <tr>\n",
       "      <th>2008-01-03</th>\n",
       "      <td>720</td>\n",
       "      <td>735</td>\n",
       "      <td>735</td>\n",
       "      <td>710</td>\n",
       "      <td>102.94</td>\n",
       "      <td>-2.04</td>\n",
       "    </tr>\n",
       "    <tr>\n",
       "      <th>2008-01-04</th>\n",
       "      <td>750</td>\n",
       "      <td>720</td>\n",
       "      <td>755</td>\n",
       "      <td>715</td>\n",
       "      <td>143.67</td>\n",
       "      <td>4.17</td>\n",
       "    </tr>\n",
       "    <tr>\n",
       "      <th>2008-01-07</th>\n",
       "      <td>745</td>\n",
       "      <td>735</td>\n",
       "      <td>750</td>\n",
       "      <td>730</td>\n",
       "      <td>63.70</td>\n",
       "      <td>-0.67</td>\n",
       "    </tr>\n",
       "    <tr>\n",
       "      <th>2008-01-08</th>\n",
       "      <td>750</td>\n",
       "      <td>745</td>\n",
       "      <td>755</td>\n",
       "      <td>745</td>\n",
       "      <td>84.23</td>\n",
       "      <td>0.67</td>\n",
       "    </tr>\n",
       "  </tbody>\n",
       "</table>\n",
       "</div>"
      ],
      "text/plain": [
       "            Price  Open  High  Low    Vol.  Change %\n",
       "Date                                                \n",
       "2008-01-02    735   735   740  730   44.77     -0.68\n",
       "2008-01-03    720   735   735  710  102.94     -2.04\n",
       "2008-01-04    750   720   755  715  143.67      4.17\n",
       "2008-01-07    745   735   750  730   63.70     -0.67\n",
       "2008-01-08    750   745   755  745   84.23      0.67"
      ]
     },
     "execution_count": 10,
     "metadata": {},
     "output_type": "execute_result"
    }
   ],
   "source": [
    "dataset = dataset.set_index('Date')\n",
    "dataset.head()"
   ]
  },
  {
   "cell_type": "code",
   "execution_count": 11,
   "metadata": {},
   "outputs": [
    {
     "name": "stdout",
     "output_type": "stream",
     "text": [
      "<class 'pandas.core.frame.DataFrame'>\n",
      "DatetimeIndex: 3041 entries, 2008-01-02 to 2020-06-30\n",
      "Data columns (total 6 columns):\n",
      " #   Column    Non-Null Count  Dtype  \n",
      "---  ------    --------------  -----  \n",
      " 0   Price     3041 non-null   int32  \n",
      " 1   Open      3041 non-null   int32  \n",
      " 2   High      3041 non-null   int32  \n",
      " 3   Low       3041 non-null   int32  \n",
      " 4   Vol.      3041 non-null   float64\n",
      " 5   Change %  3041 non-null   float64\n",
      "dtypes: float64(2), int32(4)\n",
      "memory usage: 118.8 KB\n"
     ]
    }
   ],
   "source": [
    "dataset.info()"
   ]
  },
  {
   "cell_type": "code",
   "execution_count": 12,
   "metadata": {},
   "outputs": [
    {
     "data": {
      "text/html": [
       "<div>\n",
       "<style scoped>\n",
       "    .dataframe tbody tr th:only-of-type {\n",
       "        vertical-align: middle;\n",
       "    }\n",
       "\n",
       "    .dataframe tbody tr th {\n",
       "        vertical-align: top;\n",
       "    }\n",
       "\n",
       "    .dataframe thead th {\n",
       "        text-align: right;\n",
       "    }\n",
       "</style>\n",
       "<table border=\"1\" class=\"dataframe\">\n",
       "  <thead>\n",
       "    <tr style=\"text-align: right;\">\n",
       "      <th></th>\n",
       "      <th>Price</th>\n",
       "      <th>Open</th>\n",
       "      <th>High</th>\n",
       "      <th>Low</th>\n",
       "      <th>Vol.</th>\n",
       "      <th>Change %</th>\n",
       "    </tr>\n",
       "  </thead>\n",
       "  <tbody>\n",
       "    <tr>\n",
       "      <th>count</th>\n",
       "      <td>3041.000000</td>\n",
       "      <td>3041.000000</td>\n",
       "      <td>3041.000000</td>\n",
       "      <td>3041.000000</td>\n",
       "      <td>3041.000000</td>\n",
       "      <td>3041.000000</td>\n",
       "    </tr>\n",
       "    <tr>\n",
       "      <th>mean</th>\n",
       "      <td>1993.424203</td>\n",
       "      <td>1993.598487</td>\n",
       "      <td>2017.900033</td>\n",
       "      <td>1968.209471</td>\n",
       "      <td>155.594926</td>\n",
       "      <td>0.078188</td>\n",
       "    </tr>\n",
       "    <tr>\n",
       "      <th>std</th>\n",
       "      <td>1110.471443</td>\n",
       "      <td>1111.734467</td>\n",
       "      <td>1120.692826</td>\n",
       "      <td>1100.838927</td>\n",
       "      <td>100.360742</td>\n",
       "      <td>2.566339</td>\n",
       "    </tr>\n",
       "    <tr>\n",
       "      <th>min</th>\n",
       "      <td>252.000000</td>\n",
       "      <td>245.000000</td>\n",
       "      <td>260.000000</td>\n",
       "      <td>240.000000</td>\n",
       "      <td>0.000000</td>\n",
       "      <td>-13.110000</td>\n",
       "    </tr>\n",
       "    <tr>\n",
       "      <th>25%</th>\n",
       "      <td>1085.000000</td>\n",
       "      <td>1090.000000</td>\n",
       "      <td>1120.000000</td>\n",
       "      <td>1070.000000</td>\n",
       "      <td>89.510000</td>\n",
       "      <td>-1.170000</td>\n",
       "    </tr>\n",
       "    <tr>\n",
       "      <th>50%</th>\n",
       "      <td>1890.000000</td>\n",
       "      <td>1880.000000</td>\n",
       "      <td>1920.000000</td>\n",
       "      <td>1860.000000</td>\n",
       "      <td>127.680000</td>\n",
       "      <td>0.000000</td>\n",
       "    </tr>\n",
       "    <tr>\n",
       "      <th>75%</th>\n",
       "      <td>2625.000000</td>\n",
       "      <td>2625.000000</td>\n",
       "      <td>2645.000000</td>\n",
       "      <td>2600.000000</td>\n",
       "      <td>189.340000</td>\n",
       "      <td>1.280000</td>\n",
       "    </tr>\n",
       "    <tr>\n",
       "      <th>max</th>\n",
       "      <td>4740.000000</td>\n",
       "      <td>4730.000000</td>\n",
       "      <td>4760.000000</td>\n",
       "      <td>4690.000000</td>\n",
       "      <td>908.950000</td>\n",
       "      <td>20.490000</td>\n",
       "    </tr>\n",
       "  </tbody>\n",
       "</table>\n",
       "</div>"
      ],
      "text/plain": [
       "             Price         Open         High          Low         Vol.  \\\n",
       "count  3041.000000  3041.000000  3041.000000  3041.000000  3041.000000   \n",
       "mean   1993.424203  1993.598487  2017.900033  1968.209471   155.594926   \n",
       "std    1110.471443  1111.734467  1120.692826  1100.838927   100.360742   \n",
       "min     252.000000   245.000000   260.000000   240.000000     0.000000   \n",
       "25%    1085.000000  1090.000000  1120.000000  1070.000000    89.510000   \n",
       "50%    1890.000000  1880.000000  1920.000000  1860.000000   127.680000   \n",
       "75%    2625.000000  2625.000000  2645.000000  2600.000000   189.340000   \n",
       "max    4740.000000  4730.000000  4760.000000  4690.000000   908.950000   \n",
       "\n",
       "          Change %  \n",
       "count  3041.000000  \n",
       "mean      0.078188  \n",
       "std       2.566339  \n",
       "min     -13.110000  \n",
       "25%      -1.170000  \n",
       "50%       0.000000  \n",
       "75%       1.280000  \n",
       "max      20.490000  "
      ]
     },
     "execution_count": 12,
     "metadata": {},
     "output_type": "execute_result"
    }
   ],
   "source": [
    "dataset.describe()"
   ]
  },
  {
   "cell_type": "code",
   "execution_count": 13,
   "metadata": {},
   "outputs": [],
   "source": [
    "dataset = pd.DataFrame(dataset, columns=['Price'])\n",
    "dataset = dataset.reset_index()"
   ]
  },
  {
   "cell_type": "code",
   "execution_count": 14,
   "metadata": {},
   "outputs": [
    {
     "data": {
      "text/html": [
       "<div>\n",
       "<style scoped>\n",
       "    .dataframe tbody tr th:only-of-type {\n",
       "        vertical-align: middle;\n",
       "    }\n",
       "\n",
       "    .dataframe tbody tr th {\n",
       "        vertical-align: top;\n",
       "    }\n",
       "\n",
       "    .dataframe thead th {\n",
       "        text-align: right;\n",
       "    }\n",
       "</style>\n",
       "<table border=\"1\" class=\"dataframe\">\n",
       "  <thead>\n",
       "    <tr style=\"text-align: right;\">\n",
       "      <th></th>\n",
       "      <th>Date</th>\n",
       "      <th>Price</th>\n",
       "    </tr>\n",
       "  </thead>\n",
       "  <tbody>\n",
       "    <tr>\n",
       "      <th>0</th>\n",
       "      <td>2008-01-02</td>\n",
       "      <td>735</td>\n",
       "    </tr>\n",
       "    <tr>\n",
       "      <th>1</th>\n",
       "      <td>2008-01-03</td>\n",
       "      <td>720</td>\n",
       "    </tr>\n",
       "    <tr>\n",
       "      <th>2</th>\n",
       "      <td>2008-01-04</td>\n",
       "      <td>750</td>\n",
       "    </tr>\n",
       "    <tr>\n",
       "      <th>3</th>\n",
       "      <td>2008-01-07</td>\n",
       "      <td>745</td>\n",
       "    </tr>\n",
       "    <tr>\n",
       "      <th>4</th>\n",
       "      <td>2008-01-08</td>\n",
       "      <td>750</td>\n",
       "    </tr>\n",
       "    <tr>\n",
       "      <th>...</th>\n",
       "      <td>...</td>\n",
       "      <td>...</td>\n",
       "    </tr>\n",
       "    <tr>\n",
       "      <th>3036</th>\n",
       "      <td>2020-06-24</td>\n",
       "      <td>3120</td>\n",
       "    </tr>\n",
       "    <tr>\n",
       "      <th>3037</th>\n",
       "      <td>2020-06-25</td>\n",
       "      <td>3060</td>\n",
       "    </tr>\n",
       "    <tr>\n",
       "      <th>3038</th>\n",
       "      <td>2020-06-26</td>\n",
       "      <td>3030</td>\n",
       "    </tr>\n",
       "    <tr>\n",
       "      <th>3039</th>\n",
       "      <td>2020-06-29</td>\n",
       "      <td>3040</td>\n",
       "    </tr>\n",
       "    <tr>\n",
       "      <th>3040</th>\n",
       "      <td>2020-06-30</td>\n",
       "      <td>3030</td>\n",
       "    </tr>\n",
       "  </tbody>\n",
       "</table>\n",
       "<p>3041 rows × 2 columns</p>\n",
       "</div>"
      ],
      "text/plain": [
       "           Date  Price\n",
       "0    2008-01-02    735\n",
       "1    2008-01-03    720\n",
       "2    2008-01-04    750\n",
       "3    2008-01-07    745\n",
       "4    2008-01-08    750\n",
       "...         ...    ...\n",
       "3036 2020-06-24   3120\n",
       "3037 2020-06-25   3060\n",
       "3038 2020-06-26   3030\n",
       "3039 2020-06-29   3040\n",
       "3040 2020-06-30   3030\n",
       "\n",
       "[3041 rows x 2 columns]"
      ]
     },
     "execution_count": 14,
     "metadata": {},
     "output_type": "execute_result"
    }
   ],
   "source": [
    "dataset"
   ]
  },
  {
   "cell_type": "code",
   "execution_count": 15,
   "metadata": {},
   "outputs": [
    {
     "data": {
      "text/plain": [
       "False"
      ]
     },
     "execution_count": 15,
     "metadata": {},
     "output_type": "execute_result"
    }
   ],
   "source": [
    "dataset.isna().values.any()"
   ]
  },
  {
   "cell_type": "code",
   "execution_count": 16,
   "metadata": {
    "scrolled": false
   },
   "outputs": [
    {
     "data": {
      "image/png": "[encoded data removed]",
      "text/plain": [
       "<Figure size 936x648 with 1 Axes>"
      ]
     },
     "metadata": {},
     "output_type": "display_data"
    }
   ],
   "source": [
    "import matplotlib.dates as mdates\n",
    "\n",
    "fig, ax = plt.subplots()\n",
    "ax.plot(dataset['Date'], dataset['Price'])\n",
    "\n",
    "plt.title('Harga Penutupan Saham pada Bank BRI Periode 2008 sampai 2020', fontsize=16)\n",
    "plt.xlabel('Tahun / Periode', fontsize=14)\n",
    "plt.ylabel('Harga Penutupan Saham (Rp)', fontsize=14)\\\n",
    "\n",
    "fig.autofmt_xdate()\n",
    "plt.show()"
   ]
  },
  {
   "cell_type": "code",
   "execution_count": 17,
   "metadata": {},
   "outputs": [],
   "source": [
    "train, test = train_test_split(dataset, test_size=0.35, random_state=42)\n",
    "\n",
    "X_train = np.array(train.index).reshape(-1, 1)\n",
    "y_train = train['Price']\n",
    "\n",
    "X_test = np.array(test.index).reshape(-1, 1)\n",
    "y_test = test['Price']"
   ]
  },
  {
   "cell_type": "code",
   "execution_count": 18,
   "metadata": {},
   "outputs": [],
   "source": [
    "# train_X, train_y, test_X, test_x = train_test_split(dataset, test_size=0.20, random_state=42)"
   ]
  },
  {
   "cell_type": "code",
   "execution_count": 19,
   "metadata": {},
   "outputs": [
    {
     "data": {
      "text/plain": [
       "LinearRegression()"
      ]
     },
     "execution_count": 19,
     "metadata": {},
     "output_type": "execute_result"
    }
   ],
   "source": [
    "LR = LinearRegression()\n",
    "\n",
    "LR.fit(X_train, y_train)"
   ]
  },
  {
   "cell_type": "code",
   "execution_count": 20,
   "metadata": {},
   "outputs": [
    {
     "data": {
      "text/plain": [
       "0.8977080383813515"
      ]
     },
     "execution_count": 20,
     "metadata": {},
     "output_type": "execute_result"
    }
   ],
   "source": [
    "LR.score(X_train, y_train)"
   ]
  },
  {
   "cell_type": "code",
   "execution_count": 21,
   "metadata": {},
   "outputs": [
    {
     "data": {
      "text/plain": [
       "0.908659619710805"
      ]
     },
     "execution_count": 21,
     "metadata": {},
     "output_type": "execute_result"
    }
   ],
   "source": [
    "LR.score(X_test, y_test)"
   ]
  },
  {
   "cell_type": "code",
   "execution_count": 22,
   "metadata": {},
   "outputs": [
    {
     "name": "stdout",
     "output_type": "stream",
     "text": [
      "Slope :  [1.18292444]\n",
      "Intercept :  185.51831487054187\n"
     ]
    },
    {
     "data": {
      "image/png": "[encoded data removed]",
      "text/plain": [
       "<Figure size 936x648 with 1 Axes>"
      ]
     },
     "metadata": {},
     "output_type": "display_data"
    }
   ],
   "source": [
    "X = np.array(train.index).reshape(-1, 1)\n",
    "Y = train['Price']\n",
    "\n",
    "a = LR.coef_\n",
    "b = LR.intercept_\n",
    "Y_pred = a*X + b\n",
    "\n",
    "plt.scatter(X, Y)\n",
    "plt.plot([min(X), max(X)], [min(Y_pred), max(Y_pred)], color='red')\n",
    "plt.title('Harga Penutupan Saham pada Bank BRI Periode 2008 sampai 2020', fontsize=16)\n",
    "plt.xlabel('Tahun / Periode')\n",
    "plt.ylabel('Harga Penutupan Saham (Rp)')\n",
    "\n",
    "print('Slope : ', a)\n",
    "print('Intercept : ', b)"
   ]
  },
  {
   "cell_type": "code",
   "execution_count": 23,
   "metadata": {},
   "outputs": [],
   "source": [
    "y_pred = LR.predict(X_test)\n",
    "dataset['Prediction'] = LR.predict(np.array(dataset.index).reshape(-1, 1))"
   ]
  },
  {
   "cell_type": "code",
   "execution_count": 24,
   "metadata": {},
   "outputs": [
    {
     "data": {
      "text/html": [
       "<div>\n",
       "<style scoped>\n",
       "    .dataframe tbody tr th:only-of-type {\n",
       "        vertical-align: middle;\n",
       "    }\n",
       "\n",
       "    .dataframe tbody tr th {\n",
       "        vertical-align: top;\n",
       "    }\n",
       "\n",
       "    .dataframe thead th {\n",
       "        text-align: right;\n",
       "    }\n",
       "</style>\n",
       "<table border=\"1\" class=\"dataframe\">\n",
       "  <thead>\n",
       "    <tr style=\"text-align: right;\">\n",
       "      <th></th>\n",
       "      <th>Date</th>\n",
       "      <th>Price</th>\n",
       "      <th>Prediction</th>\n",
       "    </tr>\n",
       "  </thead>\n",
       "  <tbody>\n",
       "    <tr>\n",
       "      <th>0</th>\n",
       "      <td>2008-01-02</td>\n",
       "      <td>735</td>\n",
       "      <td>185.518315</td>\n",
       "    </tr>\n",
       "    <tr>\n",
       "      <th>1</th>\n",
       "      <td>2008-01-03</td>\n",
       "      <td>720</td>\n",
       "      <td>186.701239</td>\n",
       "    </tr>\n",
       "    <tr>\n",
       "      <th>2</th>\n",
       "      <td>2008-01-04</td>\n",
       "      <td>750</td>\n",
       "      <td>187.884164</td>\n",
       "    </tr>\n",
       "    <tr>\n",
       "      <th>3</th>\n",
       "      <td>2008-01-07</td>\n",
       "      <td>745</td>\n",
       "      <td>189.067088</td>\n",
       "    </tr>\n",
       "    <tr>\n",
       "      <th>4</th>\n",
       "      <td>2008-01-08</td>\n",
       "      <td>750</td>\n",
       "      <td>190.250013</td>\n",
       "    </tr>\n",
       "    <tr>\n",
       "      <th>...</th>\n",
       "      <td>...</td>\n",
       "      <td>...</td>\n",
       "      <td>...</td>\n",
       "    </tr>\n",
       "    <tr>\n",
       "      <th>3036</th>\n",
       "      <td>2020-06-24</td>\n",
       "      <td>3120</td>\n",
       "      <td>3776.876906</td>\n",
       "    </tr>\n",
       "    <tr>\n",
       "      <th>3037</th>\n",
       "      <td>2020-06-25</td>\n",
       "      <td>3060</td>\n",
       "      <td>3778.059831</td>\n",
       "    </tr>\n",
       "    <tr>\n",
       "      <th>3038</th>\n",
       "      <td>2020-06-26</td>\n",
       "      <td>3030</td>\n",
       "      <td>3779.242755</td>\n",
       "    </tr>\n",
       "    <tr>\n",
       "      <th>3039</th>\n",
       "      <td>2020-06-29</td>\n",
       "      <td>3040</td>\n",
       "      <td>3780.425680</td>\n",
       "    </tr>\n",
       "    <tr>\n",
       "      <th>3040</th>\n",
       "      <td>2020-06-30</td>\n",
       "      <td>3030</td>\n",
       "      <td>3781.608604</td>\n",
       "    </tr>\n",
       "  </tbody>\n",
       "</table>\n",
       "<p>3041 rows × 3 columns</p>\n",
       "</div>"
      ],
      "text/plain": [
       "           Date  Price   Prediction\n",
       "0    2008-01-02    735   185.518315\n",
       "1    2008-01-03    720   186.701239\n",
       "2    2008-01-04    750   187.884164\n",
       "3    2008-01-07    745   189.067088\n",
       "4    2008-01-08    750   190.250013\n",
       "...         ...    ...          ...\n",
       "3036 2020-06-24   3120  3776.876906\n",
       "3037 2020-06-25   3060  3778.059831\n",
       "3038 2020-06-26   3030  3779.242755\n",
       "3039 2020-06-29   3040  3780.425680\n",
       "3040 2020-06-30   3030  3781.608604\n",
       "\n",
       "[3041 rows x 3 columns]"
      ]
     },
     "execution_count": 24,
     "metadata": {},
     "output_type": "execute_result"
    }
   ],
   "source": [
    "dataset"
   ]
  },
  {
   "cell_type": "code",
   "execution_count": 25,
   "metadata": {},
   "outputs": [
    {
     "name": "stdout",
     "output_type": "stream",
     "text": [
      "MAPE : 13.319572851827246\n"
     ]
    }
   ],
   "source": [
    "mape = np.mean(np.abs((y_test - y_pred)/y_test))*100\n",
    "\n",
    "print('MAPE :', mape)"
   ]
  },
  {
   "cell_type": "code",
   "execution_count": 26,
   "metadata": {},
   "outputs": [
    {
     "name": "stdout",
     "output_type": "stream",
     "text": [
      "R2:  0.908659619710805\n"
     ]
    }
   ],
   "source": [
    "print('R2: ', metrics.r2_score(y_test, y_pred))"
   ]
  },
  {
   "cell_type": "code",
   "execution_count": 27,
   "metadata": {},
   "outputs": [
    {
     "data": {
      "text/plain": [
       "0.9092588502502024"
      ]
     },
     "execution_count": 27,
     "metadata": {},
     "output_type": "execute_result"
    }
   ],
   "source": [
    "from sklearn.metrics import explained_variance_score\n",
    "explained_variance_score(y_test, y_pred)"
   ]
  },
  {
   "cell_type": "code",
   "execution_count": 28,
   "metadata": {},
   "outputs": [],
   "source": [
    "def predict(slope, intercept, new_x):\n",
    "    y = intercept + slope * new_x\n",
    "    return y"
   ]
  },
  {
   "cell_type": "code",
   "execution_count": 29,
   "metadata": {},
   "outputs": [
    {
     "name": "stdout",
     "output_type": "stream",
     "text": [
      "[3785.15737753]\n"
     ]
    }
   ],
   "source": [
    "pred = predict(a, b, 3043)\n",
    "print(pred)"
   ]
  }
 ],
 "metadata": {
  "kernelspec": {
   "display_name": "Python 3",
   "language": "python",
   "name": "python3"
  },
  "language_info": {
   "codemirror_mode": {
    "name": "ipython",
    "version": 3
   },
   "file_extension": ".py",
   "mimetype": "text/x-python",
   "name": "python",
   "nbconvert_exporter": "python",
   "pygments_lexer": "ipython3",
   "version": "3.8.5"
  }
 },
 "nbformat": 4,
 "nbformat_minor": 4
}
